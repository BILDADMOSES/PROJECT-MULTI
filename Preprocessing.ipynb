{
 "cells": [
  {
   "cell_type": "code",
   "execution_count": null,
   "metadata": {},
   "outputs": [],
   "source": [
    "le = LabelEncoder()\n",
    "\n",
    "# Use the remaining columns for label encoding\n",
    "for column in final_df.columns:\n",
    "    if final_df[column].dtype == 'object':\n",
    "        final_df[column] = le.fit_transform(final_df[column])\n"
   ]
  },
  {
   "cell_type": "code",
   "execution_count": null,
   "metadata": {},
   "outputs": [],
   "source": [
    "from sklearn.model_selection import train_test_split\n",
    "from sklearn.ensemble import RandomForestClassifier\n",
    "\n",
    "# Split data into training and testing sets\n",
    "X_train_player, X_test_player, y_train_player, y_test_player = train_test_split(X_player, y_player, test_size=0.2, random_state=42)\n",
    "\n",
    "# Train a player-level model (Random Forest Classifier in this example)\n",
    "player_model = RandomForestClassifier(random_state=42)\n",
    "player_model.fit(X_train_player, y_train_player)\n",
    "\n",
    "# Get predictions for each player in the test set\n",
    "player_predictions = player_model.predict(X_test_player)"
   ]
  }
 ],
 "metadata": {
  "language_info": {
   "name": "python"
  }
 },
 "nbformat": 4,
 "nbformat_minor": 2
}
